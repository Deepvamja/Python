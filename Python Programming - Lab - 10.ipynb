{
 "cells": [
  {
   "cell_type": "markdown",
   "metadata": {},
   "source": [
    "<a href='https://www.darshan.ac.in/'> <img src='https://www.darshan.ac.in/Content/media/DU_Logo.svg' width=\"250\" height=\"300\"/></a>\n",
    "<pre>\n",
    "<center><b><h1>Python Programming - 2301CS404</b></center>\n",
    "<center><b><h1>Lab - 10</b></center>    \n",
    "<pre>"
   ]
  },
  {
   "cell_type": "markdown",
   "metadata": {},
   "source": [
    "# Exception Handling"
   ]
  },
  {
   "cell_type": "markdown",
   "metadata": {},
   "source": [
    "### 01) WAP to handle following exceptions:\n",
    "1. ZeroDivisionError\n",
    "2. ValueError\n",
    "3. TypeError\n",
    "#### Note: handle them using separate except blocks and also using single except block too."
   ]
  },
  {
   "cell_type": "code",
   "execution_count": 4,
   "metadata": {},
   "outputs": [
    {
     "name": "stdout",
     "output_type": "stream",
     "text": [
      "Error: division by zero\n"
     ]
    }
   ],
   "source": [
    "def handle_exceptions_together():\n",
    "    try:\n",
    "        num1 = int(input(\"Enter number1: \"))\n",
    "        num2 = int(input(\"Enter enter2: \"))\n",
    "        result = num1 / num2\n",
    "        print(\"Result:\", result)\n",
    "    except (ZeroDivisionError, ValueError, TypeError) as e:\n",
    "        print(f\"Error: {e}\")\n",
    "\n",
    "handle_exceptions_together()\n"
   ]
  },
  {
   "cell_type": "markdown",
   "metadata": {},
   "source": [
    "### 02)  WAP to handle following exceptions:\n",
    "1. IndexError\n",
    "2. KeyError"
   ]
  },
  {
   "cell_type": "code",
   "execution_count": null,
   "metadata": {},
   "outputs": [
    {
     "name": "stdout",
     "output_type": "stream",
     "text": [
      "Result: 0.4\n"
     ]
    }
   ],
   "source": [
    "try:\n",
    "\n",
    "    my_list = [1, 2, 3]\n",
    "    print(\"Accessing 5th element:\", my_list[4]) \n",
    "except IndexError as e:\n",
    "    print(\"IndexError handled:\", e)\n",
    "\n",
    "try:\n",
    "\n",
    "    my_dict = {\"name\": \"deep\", \"age\": 30}\n",
    "    print(\"Accessing 'address':\", my_dict[\"address\"])  \n",
    "except KeyError as e:\n",
    "    print(\"KeyError handled:\", e)\n",
    "\n",
    "\n"
   ]
  },
  {
   "cell_type": "markdown",
   "metadata": {},
   "source": [
    "### 03) WAP to handle following exceptions:\n",
    "1. FileNotFoundError\n",
    "2. ModuleNotFoundError"
   ]
  },
  {
   "cell_type": "code",
   "execution_count": null,
   "metadata": {},
   "outputs": [],
   "source": [
    "try:\n",
    "   \n",
    "    with open(\"non.txt\", \"r\") as file:\n",
    "        content = file.read()\n",
    "    \n",
    "    \n",
    "    import m  \n",
    "except FileNotFoundError as e:\n",
    "    print(\"FileNotFoundError handled:\", e)\n",
    "except ModuleNotFoundError as e:\n",
    "    print(\"ModuleNotFoundError handled:\", e)"
   ]
  },
  {
   "cell_type": "markdown",
   "metadata": {},
   "source": [
    "### 04) WAP that catches all type of exceptions in a single except block."
   ]
  },
  {
   "cell_type": "code",
   "execution_count": null,
   "metadata": {},
   "outputs": [],
   "source": [
    "try:\n",
    "  \n",
    "    my_list = [1, 2, 3]\n",
    "    print(\"Accessing 5th element:\", my_list[4])  \n",
    "    my_dict = {\"name\": \"ayush\", \"age\": 30}\n",
    "    print(\"Accessing 'address':\", my_dict[\"address\"])  \n",
    "except Exception as e:\n",
    "    print(\"Exception handled:\", e)"
   ]
  },
  {
   "cell_type": "markdown",
   "metadata": {},
   "source": [
    "### 05) WAP to demonstrate else  and finally block."
   ]
  },
  {
   "cell_type": "code",
   "execution_count": null,
   "metadata": {},
   "outputs": [],
   "source": [
    "try:\n",
    "    \n",
    "    num1 = int(input(\"Enter num1: \"))\n",
    "    num2 = int(input(\"Enter mum2: \"))\n",
    "    result = num1 / num2\n",
    "except ZeroDivisionError as e:\n",
    "    print(\"ZeroDivisionError handled:\", e)\n",
    "except ValueError as e:\n",
    "    print(\"ValueError handled:\", e)\n",
    "else:\n",
    "    print(\"Division successful! Result:\", result)\n",
    "finally:\n",
    "    print(\"Execution completed, finally block executed.\")\n"
   ]
  },
  {
   "cell_type": "markdown",
   "metadata": {},
   "source": [
    "### 06) Create a short program that prompts the user for a list of grades separated by commas. \n",
    "### Split the string into individual grades and use a list comprehension to convert each string to an integer. \n",
    "### You should use a try statement to inform the user when the values they entered cannot be converted."
   ]
  },
  {
   "cell_type": "code",
   "execution_count": null,
   "metadata": {},
   "outputs": [],
   "source": [
    "try:\n",
    "   \n",
    "    grades_input = input(\"Enter a grades \")\n",
    "    grades = [int(grade.strip()) for grade in grades_input.split(\",\")]\n",
    "    print(\"Grades entered:\", grades)\n",
    "except ValueError as e:\n",
    "    print(\"ValueError handled: Please enter only numbers separated by commas.\", e)\n",
    "finally:\n",
    "    print(\"Execution completed, finally block executed.\")\n"
   ]
  },
  {
   "cell_type": "markdown",
   "metadata": {},
   "source": [
    "### 07) WAP to create an udf divide(a,b) that handles ZeroDivisionError."
   ]
  },
  {
   "cell_type": "code",
   "execution_count": null,
   "metadata": {},
   "outputs": [],
   "source": [
    "def handle_exceptions_together():\n",
    "    try:\n",
    "        a = int(input(\"Enter number1: \"))\n",
    "        b = int(input(\"Enter number2: \"))\n",
    "        result = a / b\n",
    "        print(\"Result:\", result)\n",
    "    except (ZeroDivisionError) as e:\n",
    "        print(f\"Error: {e}\")\n",
    "\n",
    "handle_exceptions_together()"
   ]
  },
  {
   "cell_type": "markdown",
   "metadata": {},
   "source": [
    "### 08) WAP that gets an age of a person form the user and raises ValueError with error message: \"Enter Valid Age\" :\n",
    "#### If the age is less than 18. \n",
    "#### otherwise print the age."
   ]
  },
  {
   "cell_type": "code",
   "execution_count": null,
   "metadata": {},
   "outputs": [],
   "source": [
    "try:\n",
    "    \n",
    "    age = int(input(\"Enter your age: \"))\n",
    "    if age < 18:\n",
    "        raise ValueError(\"Enter Valid Age\")\n",
    "    print(\"Your age is:\", age)\n",
    "except ValueError as e:\n",
    "    print(\"ValueError handled:\", e)\n",
    "finally:\n",
    "    print(\"Execution completed\")\n"
   ]
  },
  {
   "cell_type": "markdown",
   "metadata": {},
   "source": [
    "### 09) WAP to raise your custom Exception named InvalidUsernameError with the error message : \"Username must be between 5 and 15 characters long\":\n",
    "#### if the given name is having characters less than 5 or greater than 15.\n",
    "#### otherwise print the given username."
   ]
  },
  {
   "cell_type": "code",
   "execution_count": 12,
   "metadata": {},
   "outputs": [
    {
     "name": "stdout",
     "output_type": "stream",
     "text": [
      "Username must be between 5 and 15 characters long\n"
     ]
    }
   ],
   "source": [
    "class InvalidUsernameError(Exception):\n",
    "    pass\n",
    "\n",
    "def validate_username(username):\n",
    "    if len(username) < 5 or len(username) > 15:\n",
    "        raise InvalidUsernameError(\"Username must be between 5 and 15 characters long\")\n",
    "    else:\n",
    "        print(f\"Given username is: {username}\")\n",
    "\n",
    "\n",
    "username = input(\"Enter your username: \")\n",
    "\n",
    "try:\n",
    "    validate_username(username)\n",
    "except InvalidUsernameError as e:\n",
    "    print(e)\n"
   ]
  },
  {
   "cell_type": "markdown",
   "metadata": {},
   "source": [
    "### 10) WAP to raise your custom Exception named NegativeNumberError with the error message : \"Cannot calculate the square root of a negative number\" :\n",
    "#### if the given number is negative.\n",
    "#### otherwise print the square root of the given number."
   ]
  },
  {
   "cell_type": "code",
   "execution_count": 15,
   "metadata": {},
   "outputs": [
    {
     "name": "stdout",
     "output_type": "stream",
     "text": [
      "Cannot be calculated the square root of a negative number\n"
     ]
    }
   ],
   "source": [
    "class NegativeNumberError(Exception):\n",
    "    pass\n",
    "\n",
    "def validate_num(num):\n",
    "    if num < 0:\n",
    "        raise NegativeNumberError(\"Cannot be calculated the square root of a negative number\")\n",
    "    else:\n",
    "        print(f\"Given num is: {num}\")\n",
    "\n",
    "\n",
    "names = int(input(\"Enter your num: \"))\n",
    "\n",
    "try:\n",
    "    validate_num(names)\n",
    "except NegativeNumberError as e:\n",
    "    print(e)\n",
    "\n"
   ]
  },
  {
   "cell_type": "code",
   "execution_count": null,
   "metadata": {},
   "outputs": [],
   "source": []
  }
 ],
 "metadata": {
  "kernelspec": {
   "display_name": "Python 3",
   "language": "python",
   "name": "python3"
  },
  "language_info": {
   "codemirror_mode": {
    "name": "ipython",
    "version": 3
   },
   "file_extension": ".py",
   "mimetype": "text/x-python",
   "name": "python",
   "nbconvert_exporter": "python",
   "pygments_lexer": "ipython3",
   "version": "3.13.0"
  }
 },
 "nbformat": 4,
 "nbformat_minor": 4
}
