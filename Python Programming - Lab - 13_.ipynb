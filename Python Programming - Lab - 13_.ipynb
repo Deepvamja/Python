{
 "cells": [
  {
   "cell_type": "markdown",
   "metadata": {},
   "source": [
    "<a href='https://www.darshan.ac.in/'> <img src='https://www.darshan.ac.in/Content/media/DU_Logo.svg' width=\"250\" height=\"300\"/></a>\n",
    "<pre>\n",
    "<center><b><h1>Python Programming - 2301CS404</b></center>\n",
    "<center><b><h1>Lab - 13</b></center>    \n",
    "<pre>"
   ]
  },
  {
   "cell_type": "markdown",
   "metadata": {},
   "source": [
    "# OOP"
   ]
  },
  {
   "cell_type": "markdown",
   "metadata": {},
   "source": [
    "### 01) Write a Program to create a class by name Students, and initialize attributes like name, age, and grade while creating an object."
   ]
  },
  {
   "cell_type": "code",
   "execution_count": 4,
   "metadata": {},
   "outputs": [
    {
     "name": "stdout",
     "output_type": "stream",
     "text": [
      "Student Name: deep\n",
      "Age: 19\n",
      "Grade: 12th Grade\n"
     ]
    }
   ],
   "source": [
    "class Students:\n",
    "    def __init__(self, name, age, grade):\n",
    "        self.name = name\n",
    "        self.age = age\n",
    "        self.grade = grade\n",
    "\n",
    "    def display_info(self):\n",
    "        print(f\"Student Name: {self.name}\")\n",
    "        print(f\"Age: {self.age}\")\n",
    "        print(f\"Grade: {self.grade}\")\n",
    "\n",
    "\n",
    "student1 = Students(\"deep\", 19, \"12th Grade\")\n",
    "\n",
    "student1.display_info()\n",
    "\n",
    "    \n"
   ]
  },
  {
   "cell_type": "markdown",
   "metadata": {},
   "source": [
    "### 02) Create a class named Bank_Account with Account_No, User_Name, Email,Account_Type and Account_Balance data members. Also create a method GetAccountDetails() and DisplayAccountDetails(). Create main method to demonstrate the Bank_Account class."
   ]
  },
  {
   "cell_type": "code",
   "execution_count": 12,
   "metadata": {},
   "outputs": [
    {
     "name": "stdout",
     "output_type": "stream",
     "text": [
      "\n",
      "----- Account Details -----\n",
      "Account Number: 123\n",
      "User Name: deep\n",
      "Email: deep@gmail.com\n",
      "Account Type: saving\n",
      "Account Balance: $34000.00\n"
     ]
    }
   ],
   "source": [
    "class Bank_Account:\n",
    "    def __init__(self, account_no, user_name, email, account_type, account_balance):\n",
    "        self.account_no = account_no\n",
    "        self.user_name = user_name\n",
    "        self.email = email\n",
    "        self.account_type = account_type\n",
    "        self.account_balance = account_balance\n",
    "        \n",
    "\n",
    "    def GetAccountDetails(self):\n",
    "        self.account_no = input(\"Enter Account Number: \")\n",
    "        self.user_name = input(\"Enter User Name: \")\n",
    "        self.email = input(\"Enter Email: \")\n",
    "        self.account_type = input(\"Enter Account Type (Savings/Current): \")\n",
    "        self.account_balance = float(input(\"Enter Account Balance: \"))\n",
    "\n",
    "    def DisplayAccountDetails(self):\n",
    "        print(\"\\n----- Account Details -----\")\n",
    "        print(f\"Account Number: {self.account_no}\")\n",
    "        print(f\"User Name: {self.user_name}\")\n",
    "        print(f\"Email: {self.email}\")\n",
    "        print(f\"Account Type: {self.account_type}\")\n",
    "        print(f\"Account Balance: ${self.account_balance:.2f}\")\n",
    "\n",
    "userdetails = Bank_Account(123,'deep','deep@gmail.com','saving','34000')\n",
    "userdetails.DisplayAccountDetails\n",
    "\n",
    "\n",
    "def main():\n",
    "  \n",
    "    account = Bank_Account(\"\", \"\", \"\", \"\", 0.0)\n",
    "\n",
    "   \n",
    "    account.GetAccountDetails()\n",
    "\n",
    "\n",
    "    account.DisplayAccountDetails()\n",
    "\n",
    "if __name__ == \"__main__\":\n",
    "    main()\n"
   ]
  },
  {
   "cell_type": "markdown",
   "metadata": {},
   "source": [
    "### 03) WAP to create Circle class with area and perimeter function to find area and perimeter of circle."
   ]
  },
  {
   "cell_type": "code",
   "execution_count": 14,
   "metadata": {},
   "outputs": [
    {
     "name": "stdout",
     "output_type": "stream",
     "text": [
      "\n",
      "Area of Circle: 50.27\n",
      "Perimeter of Circle: 25.13\n"
     ]
    }
   ],
   "source": [
    "import math\n",
    "\n",
    "class Circle:\n",
    "    def __init__(self, radius):\n",
    "        self.radius = radius\n",
    "\n",
    "    def area(self):\n",
    "        return math.pi * self.radius ** 2\n",
    "\n",
    "    def perimeter(self):\n",
    "        return 2 * math.pi * self.radius\n",
    "\n",
    "def main():\n",
    "    r = float(input(\"Enter the radius of the circle: \"))\n",
    "    circle = Circle(r)\n",
    "\n",
    "    print(f\"\\nArea of Circle: {circle.area():.2f}\")\n",
    "    print(f\"Perimeter of Circle: {circle.perimeter():.2f}\")\n",
    "\n",
    "\n",
    "if __name__ == \"__main__\":\n",
    "    main()\n"
   ]
  },
  {
   "cell_type": "markdown",
   "metadata": {},
   "source": [
    "### 04) Create a class for employees that includes attributes such as name, age, salary, and methods to update and display employee information."
   ]
  },
  {
   "cell_type": "code",
   "execution_count": 15,
   "metadata": {},
   "outputs": [
    {
     "name": "stdout",
     "output_type": "stream",
     "text": [
      "\n",
      "----- Employee Details -----\n",
      "Name: deep\n",
      "Age: 19\n",
      "Salary: $30000.00\n",
      "\n",
      "Employee details updated successfully!\n",
      "\n",
      "----- Employee Details -----\n",
      "Name: deep\n",
      "Age: 20\n",
      "Salary: $45000.00\n"
     ]
    }
   ],
   "source": [
    "class Employee:\n",
    "    def __init__(self, name, age, salary):\n",
    "        self.name = name\n",
    "        self.age = age\n",
    "        self.salary = salary\n",
    "\n",
    "    def update_info(self, name=None, age=None, salary=None):\n",
    "        if name:\n",
    "            self.name = name\n",
    "        if age:\n",
    "            self.age = age\n",
    "        if salary:\n",
    "            self.salary = salary\n",
    "        print(\"\\nEmployee details updated successfully!\")\n",
    "\n",
    "    def display_info(self):\n",
    "        print(\"\\n----- Employee Details -----\")\n",
    "        print(f\"Name: {self.name}\")\n",
    "        print(f\"Age: {self.age}\")\n",
    "        print(f\"Salary: ${self.salary:.2f}\")\n",
    "\n",
    "\n",
    "def main():\n",
    "   \n",
    "    emp1 = Employee(\"deep\", 19, 30000)\n",
    "\n",
    "    emp1.display_info()\n",
    "\n",
    "    emp1.update_info(age=20, salary=45000)\n",
    "\n",
    "\n",
    "    emp1.display_info()\n",
    "\n",
    "# Calling the main function\n",
    "if __name__ == \"__main__\":\n",
    "    main()\n"
   ]
  },
  {
   "cell_type": "markdown",
   "metadata": {},
   "source": [
    "### 05) Create a bank account class with methods to deposit, withdraw, and check balance."
   ]
  },
  {
   "cell_type": "code",
   "execution_count": 16,
   "metadata": {},
   "outputs": [
    {
     "name": "stdout",
     "output_type": "stream",
     "text": [
      "\n",
      "Current Balance: $2000.00\n",
      "\n",
      "$5000.00 deposited successfully!\n",
      "\n",
      "Current Balance: $7000.00\n",
      "\n",
      "$3000.00 withdrawn successfully!\n",
      "\n",
      "Current Balance: $4000.00\n",
      "\n",
      "$2000.00 withdrawn successfully!\n"
     ]
    }
   ],
   "source": [
    "class BankAccount:\n",
    "    def __init__(self, account_number, account_holder, balance=0.0):\n",
    "        self.account_number = account_number\n",
    "        self.account_holder = account_holder\n",
    "        self.balance = balance\n",
    "\n",
    "    def deposit(self, amount):\n",
    "        if amount > 0:\n",
    "            self.balance += amount\n",
    "            print(f\"\\n${amount:.2f} deposited successfully!\")\n",
    "        else:\n",
    "            print(\"\\nInvalid deposit amount!\")\n",
    "\n",
    "    def withdraw(self, amount):\n",
    "        if 0 < amount <= self.balance:\n",
    "            self.balance -= amount\n",
    "            print(f\"\\n${amount:.2f} withdrawn successfully!\")\n",
    "        elif amount > self.balance:\n",
    "            print(\"\\nInsufficient balance!\")\n",
    "        else:\n",
    "            print(\"\\nInvalid withdrawal amount!\")\n",
    "\n",
    "    def check_balance(self):\n",
    "        print(f\"\\nCurrent Balance: ${self.balance:.2f}\")\n",
    "\n",
    "\n",
    "def main():\n",
    "\n",
    "    account = BankAccount(\"123456789\", \"Deep\", 2000.0)\n",
    "\n",
    " \n",
    "    account.check_balance()\n",
    "\n",
    "\n",
    "    account.deposit(5000)\n",
    "\n",
    " \n",
    "    account.check_balance()\n",
    "\n",
    "\n",
    "    account.withdraw(3000)\n",
    "\n",
    "    account.check_balance()\n",
    "\n",
    "  \n",
    "    account.withdraw(2000)\n",
    "\n",
    "if __name__ == \"__main__\":\n",
    "    main()\n"
   ]
  },
  {
   "cell_type": "markdown",
   "metadata": {},
   "source": [
    "### 06) Create a class for managing inventory that includes attributes such as item name, price, quantity, and methods to add, remove, and update items."
   ]
  },
  {
   "cell_type": "code",
   "execution_count": 17,
   "metadata": {},
   "outputs": [
    {
     "name": "stdout",
     "output_type": "stream",
     "text": [
      "\n",
      "Laptop added successfully! Current quantity: 5\n",
      "\n",
      "Mouse added successfully! Current quantity: 10\n",
      "\n",
      "Keyboard added successfully! Current quantity: 7\n",
      "\n",
      "----- Inventory Details -----\n",
      "Item: Laptop, Price: $1000.00, Quantity: 5\n",
      "Item: Mouse, Price: $20.00, Quantity: 10\n",
      "Item: Keyboard, Price: $50.00, Quantity: 7\n",
      "\n",
      "5 units of Mouse removed!\n",
      "\n",
      "Price of Laptop updated to $950.00!\n",
      "\n",
      "----- Inventory Details -----\n",
      "Item: Laptop, Price: $950.00, Quantity: 5\n",
      "Item: Mouse, Price: $20.00, Quantity: 5\n",
      "Item: Keyboard, Price: $50.00, Quantity: 7\n"
     ]
    }
   ],
   "source": [
    "class Inventory:\n",
    "    def __init__(self):\n",
    "        self.items = {}\n",
    "\n",
    "    def add_item(self, name, price, quantity):\n",
    "        if name in self.items:\n",
    "            self.items[name]['quantity'] += quantity\n",
    "        else:\n",
    "            self.items[name] = {'price': price, 'quantity': quantity}\n",
    "        print(f\"\\n{name} added successfully! Current quantity: {self.items[name]['quantity']}\")\n",
    "\n",
    "    def remove_item(self, name, quantity):\n",
    "        if name in self.items:\n",
    "            if self.items[name]['quantity'] >= quantity:\n",
    "                self.items[name]['quantity'] -= quantity\n",
    "                print(f\"\\n{quantity} units of {name} removed!\")\n",
    "                if self.items[name]['quantity'] == 0:\n",
    "                    del self.items[name]\n",
    "                    print(f\"{name} is now out of stock and removed from inventory.\")\n",
    "            else:\n",
    "                print(f\"\\nInsufficient quantity of {name} to remove!\")\n",
    "        else:\n",
    "            print(f\"\\n{name} not found in inventory!\")\n",
    "\n",
    "    def update_price(self, name, new_price):\n",
    "        if name in self.items:\n",
    "            self.items[name]['price'] = new_price\n",
    "            print(f\"\\nPrice of {name} updated to ${new_price:.2f}!\")\n",
    "        else:\n",
    "            print(f\"\\n{name} not found in inventory!\")\n",
    "\n",
    "    def display_inventory(self):\n",
    "        if not self.items:\n",
    "            print(\"\\nInventory is empty!\")\n",
    "        else:\n",
    "            print(\"\\n----- Inventory Details -----\")\n",
    "            for name, details in self.items.items():\n",
    "                print(f\"Item: {name}, Price: ${details['price']:.2f}, Quantity: {details['quantity']}\")\n",
    "\n",
    "\n",
    "def main():\n",
    "    store = Inventory()\n",
    "\n",
    " \n",
    "    store.add_item(\"Laptop\", 1000, 5)\n",
    "    store.add_item(\"Mouse\", 20, 10)\n",
    "    store.add_item(\"Keyboard\", 50, 7)\n",
    "\n",
    "    store.display_inventory()\n",
    "\n",
    "    store.remove_item(\"Mouse\", 5)\n",
    "\n",
    "    store.update_price(\"Laptop\", 950)\n",
    "\n",
    "\n",
    "    store.display_inventory()\n",
    "\n",
    "\n",
    "if __name__ == \"__main__\":\n",
    "    main()\n"
   ]
  },
  {
   "cell_type": "markdown",
   "metadata": {},
   "source": [
    "### 07) Create a Class with instance attributes of your choice."
   ]
  },
  {
   "cell_type": "code",
   "execution_count": 18,
   "metadata": {},
   "outputs": [
    {
     "name": "stdout",
     "output_type": "stream",
     "text": [
      "\n",
      "----- Car Details -----\n",
      "Brand: Tesla\n",
      "Model: Model S\n",
      "\n",
      "----- Car Details -----\n",
      "Brand: Toyota\n",
      "Model: Camry\n"
     ]
    }
   ],
   "source": [
    "class Car:\n",
    "    def __init__(self, brand, model):\n",
    "        self.brand = brand\n",
    "        self.model = model\n",
    "     \n",
    "\n",
    "    def display_details(self):\n",
    "        print(\"\\n----- Car Details -----\")\n",
    "        print(f\"Brand: {self.brand}\")\n",
    "        print(f\"Model: {self.model}\")\n",
    " \n",
    "\n",
    "def main():\n",
    "\n",
    "    car1 = Car(\"Tesla\", \"Model S\")\n",
    "    car2 = Car(\"Toyota\", \"Camry\")\n",
    "\n",
    "\n",
    "    car1.display_details()\n",
    "    car2.display_details()\n",
    "\n",
    "# Calling the main function\n",
    "if __name__ == \"__main__\":\n",
    "    main()\n"
   ]
  },
  {
   "cell_type": "markdown",
   "metadata": {},
   "source": [
    "### 08) Create one class student_kit\n",
    "#### Within the student_kit class create one class attribute principal name ( Mr ABC )\n",
    "#### Create one attendance method and take input as number of days.\n",
    "#### While creating student take input their name .\n",
    "#### Create one certificate for each student by taking input of number of days present in class."
   ]
  },
  {
   "cell_type": "code",
   "execution_count": null,
   "metadata": {},
   "outputs": [
    {
     "ename": "SyntaxError",
     "evalue": "expected '(' (4137731158.py, line 4)",
     "output_type": "error",
     "traceback": [
      "\u001b[1;36m  Cell \u001b[1;32mIn[19], line 4\u001b[1;36m\u001b[0m\n\u001b[1;33m    def atten\u001b[0m\n\u001b[1;37m             ^\u001b[0m\n\u001b[1;31mSyntaxError\u001b[0m\u001b[1;31m:\u001b[0m expected '('\n"
     ]
    }
   ],
   "source": [
    "class StudentKit:\n",
    "\n",
    "    principal_name = \"Mr. ABC\"\n",
    "\n",
    "    def __init__(self, student_name):\n",
    "        self.student_name = student_name\n",
    "        self.attendance_days = 0\n",
    "\n",
    "    def attendance(self, days):\n",
    "        self.attendance_days = days\n",
    "        print(f\"\\nAttendance recorded for {self.student_name}: {self.attendance_days} days\")\n",
    "\n",
    "    def generate_certificate(self):\n",
    "        print(\"\\n-------------------- CERTIFICATE --------------------\")\n",
    "        print(f\"Principal: {StudentKit.principal_name}\")\n",
    "        print(f\"Student Name: {self.student_name}\")\n",
    "        print(f\"Total Attendance: {self.attendance_days} days\")\n",
    "        print(\"Congratulations on your participation!\")\n",
    "        print(\"------------------------------------------------------\")\n",
    "\n",
    "def main():\n",
    "    \n",
    "    student_name = input(\"Enter student name: \")\n",
    "    \n",
    "    student = StudentKit(student_name)\n",
    "\n",
    "  \n",
    "    days_present = int(input(f\"Enter number of days {student_name} was present: \"))\n",
    "\n",
    "    student.attendance(days_present)\n",
    "\n",
    "  \n",
    "    student.generate_certificate()\n",
    "\n",
    "# Calling the main function\n",
    "if __name__ == \"__main__\":\n",
    "    main()\n"
   ]
  },
  {
   "cell_type": "markdown",
   "metadata": {},
   "source": [
    "### 09) Define Time class with hour and minute as data member. Also define addition method to add two time objects."
   ]
  },
  {
   "cell_type": "code",
   "execution_count": null,
   "metadata": {},
   "outputs": [],
   "source": [
    "class Time:\n",
    "    def __init__(self, hour, minute):\n",
    "        self.hour = hour\n",
    "        self.minute = minute\n",
    "\n",
    "    def add_time(self, other):\n",
    "        total_minutes = self.minute + other.minute\n",
    "        extra_hours = total_minutes // 60\n",
    "        final_minutes = total_minutes % 60\n",
    "        final_hours = self.hour + other.hour + extra_hours\n",
    "\n",
    "        return Time(final_hours, final_minutes)\n",
    "\n",
    "    def display(self):\n",
    "        print(f\"{self.hour} hour(s) and {self.minute} minute(s)\")\n",
    "s\n",
    "def main():\n",
    "\n",
    "    time1 = Time(2, 45)\n",
    "    time2 = Time(1, 30)\n",
    "\n",
    "\n",
    "    print(\"\\nTime 1:\")\n",
    "    time1.display()\n",
    "\n",
    "    print(\"\\nTime 2:\")\n",
    "    time2.display()\n",
    "\n",
    "    total_time = time1.add_time(time2)\n",
    "\n",
    " \n",
    "    print(\"\\nTotal Time after addition:\")\n",
    "    total_time.display()\n",
    "\n",
    "if __name__ == \"__main__\":\n",
    "    main()\n"
   ]
  }
 ],
 "metadata": {
  "kernelspec": {
   "display_name": "Python 3",
   "language": "python",
   "name": "python3"
  },
  "language_info": {
   "codemirror_mode": {
    "name": "ipython",
    "version": 3
   },
   "file_extension": ".py",
   "mimetype": "text/x-python",
   "name": "python",
   "nbconvert_exporter": "python",
   "pygments_lexer": "ipython3",
   "version": "3.13.0"
  }
 },
 "nbformat": 4,
 "nbformat_minor": 4
}
