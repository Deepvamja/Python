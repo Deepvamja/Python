{
 "cells": [
  {
   "cell_type": "markdown",
   "metadata": {},
   "source": [
    "\n",
    "<a href='https://www.darshan.ac.in/'> <img src='https://www.darshan.ac.in/Content/media/DU_Logo.svg' width=\"250\" height=\"300\"/></a>\n",
    "<pre>\n",
    "<center><b><h1>Python Programming - 2301CS404</b></center>\n",
    "<center><b><h1>Lab - 4</b></center>    \n",
    "<pre>"
   ]
  },
  {
   "cell_type": "markdown",
   "metadata": {},
   "source": [
    "# String"
   ]
  },
  {
   "cell_type": "markdown",
   "metadata": {},
   "source": [
    "### 01) WAP to check whether the given string is palindrome or not."
   ]
  },
  {
   "cell_type": "code",
   "execution_count": 15,
   "metadata": {},
   "outputs": [
    {
     "name": "stdout",
     "output_type": "stream",
     "text": [
      "Yes it is a palindrme\n"
     ]
    }
   ],
   "source": [
    "\n",
    "\n",
    "def isPalindrome(s):\n",
    "    return s == s[::-1]\n",
    "\n",
    "s = input('enter the string')\n",
    "ans = isPalindrome(s)\n",
    "\n",
    "if ans:\n",
    "    print(\"Yes it is a palindrme\")\n",
    "else:\n",
    "    print(\"No it is not a palindrome\")"
   ]
  },
  {
   "cell_type": "markdown",
   "metadata": {},
   "source": [
    "### 02) WAP to reverse the words in the given string."
   ]
  },
  {
   "cell_type": "code",
   "execution_count": null,
   "metadata": {},
   "outputs": [],
   "source": [
    "s = input('enter the string')\n",
    "\n",
    "s = s[::-1]\n",
    "print(s)"
   ]
  },
  {
   "cell_type": "markdown",
   "metadata": {},
   "source": [
    "### 03) WAP to remove ith character from given string."
   ]
  },
  {
   "cell_type": "code",
   "execution_count": 40,
   "metadata": {},
   "outputs": [
    {
     "name": "stdout",
     "output_type": "stream",
     "text": [
      "eep\n",
      "dee\n",
      "String after removing character: hell world\n"
     ]
    }
   ],
   "source": [
    "\n",
    "s = \"deep\"\n",
    "s = s.removeprefix('d')\n",
    "print(s)\n",
    "\n",
    "\n",
    "s2 = \"deep\"\n",
    "s2 = s2.removesuffix('p')\n",
    "print(s2)\n",
    "\n",
    "\n",
    "\n",
    "def remove_ith_character(s, i):\n",
    "   \n",
    "    if i < 0 or i >= len(s):\n",
    "        return \"Invalid index\"\n",
    "   \n",
    "    return s[:i] + s[i+1:]\n",
    "\n",
    "\n",
    "input_string = \"hello world\"\n",
    "index = 4  \n",
    "result = remove_ith_character(input_string, index)\n",
    "print(\"String after removing character:\", result)\n"
   ]
  },
  {
   "cell_type": "markdown",
   "metadata": {},
   "source": [
    "### 04) WAP to find length of string without using len function."
   ]
  },
  {
   "cell_type": "code",
   "execution_count": 41,
   "metadata": {},
   "outputs": [
    {
     "name": "stdout",
     "output_type": "stream",
     "text": [
      "10\n"
     ]
    }
   ],
   "source": [
    "\n",
    "def findLen(str):\n",
    "    counter = 0\n",
    "    while str[counter:]:\n",
    "        counter += 1\n",
    "    return counter\n",
    "\n",
    "str = 'hello deep'\n",
    "print(findLen(str))"
   ]
  },
  {
   "cell_type": "markdown",
   "metadata": {},
   "source": [
    "### 05) WAP to print even length word in string."
   ]
  },
  {
   "cell_type": "code",
   "execution_count": 42,
   "metadata": {},
   "outputs": [
    {
     "name": "stdout",
     "output_type": "stream",
     "text": [
      "This\n",
      "is\n",
      "python\n",
      "language\n"
     ]
    }
   ],
   "source": [
    " \n",
    "S=\"This is a python language\"\n",
    "\n",
    "s = S.split(\" \") \n",
    "for i in s:\n",
    "    if len(i)%2==0: \n",
    "        print(i)"
   ]
  },
  {
   "cell_type": "markdown",
   "metadata": {},
   "source": [
    "### 06) WAP to count numbers of vowels in given string."
   ]
  },
  {
   "cell_type": "code",
   "execution_count": null,
   "metadata": {},
   "outputs": [],
   "source": [
    "string = input('enter the string')\n",
    "vowels = input('enter the vowel')\n",
    "\n",
    "count = sum(string.count(vowel) for vowel in vowels)\n",
    "print(count)"
   ]
  },
  {
   "cell_type": "markdown",
   "metadata": {},
   "source": [
    "### 07) WAP to capitalize the first and last character of each word in a string."
   ]
  },
  {
   "cell_type": "code",
   "execution_count": 26,
   "metadata": {},
   "outputs": [
    {
     "name": "stdout",
     "output_type": "stream",
     "text": [
      "Output: HellO FroM DeeP\n"
     ]
    }
   ],
   "source": [
    "def capitalize_first_last(string):\n",
    "    words = string.split()\n",
    "  \n",
    "    result = [\n",
    "        word[0].upper() + word[1:-1] + word[-1].upper() if len(word) > 1 else word.upper()\n",
    "        for word in words\n",
    "    ]\n",
    "    return ' '.join(result)\n",
    "\n",
    "input_string = input(\"Enter a string: \")\n",
    "output_string = capitalize_first_last(input_string)\n",
    "print(\"Output:\", output_string)\n"
   ]
  },
  {
   "cell_type": "markdown",
   "metadata": {},
   "source": [
    "### 08) WAP to convert given array to string."
   ]
  },
  {
   "cell_type": "code",
   "execution_count": 27,
   "metadata": {},
   "outputs": [
    {
     "name": "stdout",
     "output_type": "stream",
     "text": [
      "Array is converted to string: Hello\n"
     ]
    }
   ],
   "source": [
    "\n",
    "def array_to_string(arr):\n",
    "    \n",
    "    return ''.join(arr)\n",
    "\n",
    "array = ['H', 'e', 'l', 'l', 'o']\n",
    "result = array_to_string(array)\n",
    "print(\"Array is converted to string:\", result)\n"
   ]
  },
  {
   "cell_type": "markdown",
   "metadata": {},
   "source": [
    "### 09) Check if the password and confirm password is same or not. \n",
    "### In case of only case's mistake, show the error message."
   ]
  },
  {
   "cell_type": "code",
   "execution_count": 22,
   "metadata": {},
   "outputs": [
    {
     "name": "stdout",
     "output_type": "stream",
     "text": [
      "Passwords match.\n"
     ]
    }
   ],
   "source": [
    "def check_passwords(password, confirm_password):\n",
    "    if password == confirm_password:\n",
    "        print(\"Passwords match.\")\n",
    "    elif password.lower() == confirm_password.lower():\n",
    "        print(\"Error: Passwords do not match due to case sensitivity in given string.\")\n",
    "    else:\n",
    "        print(\"Error: Passwords do not match.\")\n",
    "\n",
    "\n",
    "password = input(\"Enter password: \")\n",
    "confirm_password = input(\"Enter confirm password: \")\n",
    "check_passwords(password, confirm_password)"
   ]
  },
  {
   "cell_type": "markdown",
   "metadata": {},
   "source": [
    "### 10) : Display credit card number. \n",
    "### card no. : 1234 5678 9012 3456\n",
    "### display as  : **** **** **** 3456"
   ]
  },
  {
   "cell_type": "code",
   "execution_count": 4,
   "metadata": {},
   "outputs": [
    {
     "name": "stdout",
     "output_type": "stream",
     "text": [
      "credit card number: **** **** **** 3456\n"
     ]
    }
   ],
   "source": [
    "\n",
    "def credit_card(card_number):\n",
    "  \n",
    "    parts = card_number.split()\n",
    "  \n",
    "    masked_parts = [\"****\"] * (len(parts) - 1) + [parts[-1]]\n",
    "\n",
    "    return \" \".join(masked_parts)\n",
    "\n",
    "card_number = \"1234 5678 9012 3456\"\n",
    "masked_card = credit_card(card_number)\n",
    "print(\"credit card number:\", masked_card)\n"
   ]
  },
  {
   "cell_type": "markdown",
   "metadata": {},
   "source": [
    "### 11) : Checking if the two strings are Anagram or not.\n",
    "### s1 = decimal and s2 = medical are Anagram"
   ]
  },
  {
   "cell_type": "code",
   "execution_count": 5,
   "metadata": {},
   "outputs": [
    {
     "name": "stdout",
     "output_type": "stream",
     "text": [
      "\"decimal\" and \"medical\" are anagrams.\n"
     ]
    }
   ],
   "source": [
    "\n",
    "def are_anagrams(s1, s2):\n",
    "    \n",
    "    s1 = s1.replace(\" \", \"\").lower()\n",
    "    s2 = s2.replace(\" \", \"\").lower()\n",
    "    \n",
    "   \n",
    "    return sorted(s1) == sorted(s2)\n",
    "\n",
    "\n",
    "s1 = \"decimal\"\n",
    "s2 = \"medical\"\n",
    "\n",
    "if are_anagrams(s1, s2):\n",
    "    print(f'\"{s1}\" and \"{s2}\" are anagrams.')\n",
    "else:\n",
    "    print(f'\"{s1}\" and \"{s2}\" are not anagrams.')\n"
   ]
  },
  {
   "cell_type": "markdown",
   "metadata": {},
   "source": [
    "### 12) : Rearrange the given string. First lowercase then uppercase alphabets.\n",
    "### input : EHlsarwiwhtwMV\n",
    "### output : lsarwiwhtwEHMV"
   ]
  },
  {
   "cell_type": "code",
   "execution_count": 6,
   "metadata": {},
   "outputs": [
    {
     "name": "stdout",
     "output_type": "stream",
     "text": [
      "Rearranged string: lsarwiwhtwEHMV\n"
     ]
    }
   ],
   "source": [
    "\n",
    "def rearrange_string(s):\n",
    "    \n",
    "    lowercase = \"\".join([ch for ch in s if ch.islower()])\n",
    "    uppercase = \"\".join([ch for ch in s if ch.isupper()])\n",
    " \n",
    "    return lowercase + uppercase\n",
    "\n",
    "\n",
    "input_string = \"EHlsarwiwhtwMV\"\n",
    "output_string = rearrange_string(input_string)\n",
    "print(\"Rearranged string:\", output_string)\n"
   ]
  }
 ],
 "metadata": {
  "kernelspec": {
   "display_name": "Python 3",
   "language": "python",
   "name": "python3"
  },
  "language_info": {
   "codemirror_mode": {
    "name": "ipython",
    "version": 3
   },
   "file_extension": ".py",
   "mimetype": "text/x-python",
   "name": "python",
   "nbconvert_exporter": "python",
   "pygments_lexer": "ipython3",
   "version": "3.13.0"
  }
 },
 "nbformat": 4,
 "nbformat_minor": 4
}
