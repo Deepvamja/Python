{
 "cells": [
  {
   "cell_type": "markdown",
   "metadata": {},
   "source": [
    "# List"
   ]
  },
  {
   "cell_type": "markdown",
   "metadata": {},
   "source": [
    "### 01) WAP to find sum of all the elements in a List."
   ]
  },
  {
   "cell_type": "code",
   "execution_count": 3,
   "metadata": {},
   "outputs": [
    {
     "name": "stdout",
     "output_type": "stream",
     "text": [
      "Sum :  15\n"
     ]
    }
   ],
   "source": [
    "l = [1,2,3,4,5]\n",
    "sum = 0\n",
    "for i in l:\n",
    "    sum += i\n",
    "    \n",
    "print(\"Sum : \" , sum)"
   ]
  },
  {
   "cell_type": "markdown",
   "metadata": {},
   "source": [
    "### 02) WAP to find largest element in a List."
   ]
  },
  {
   "cell_type": "code",
   "execution_count": 7,
   "metadata": {},
   "outputs": [
    {
     "name": "stdout",
     "output_type": "stream",
     "text": [
      "Max :  5\n"
     ]
    }
   ],
   "source": [
    "l = [1,2,3,5,4]\n",
    "max = l[0]\n",
    "\n",
    "for i in l :\n",
    "    if max < i :\n",
    "        max = i\n",
    "        \n",
    "print(\"Max : \" , max)"
   ]
  },
  {
   "cell_type": "markdown",
   "metadata": {},
   "source": [
    "### 03) WAP to find the length of a List."
   ]
  },
  {
   "cell_type": "code",
   "execution_count": 8,
   "metadata": {},
   "outputs": [
    {
     "name": "stdout",
     "output_type": "stream",
     "text": [
      "Length :  5\n"
     ]
    }
   ],
   "source": [
    "l = [1,2,3,4,5]\n",
    "length = 0\n",
    "\n",
    "for i in l :\n",
    "    length += 1\n",
    "    \n",
    "print(\"Length : \" , length)"
   ]
  },
  {
   "cell_type": "markdown",
   "metadata": {},
   "source": [
    "### 04) WAP to interchange first and last elements in a list."
   ]
  },
  {
   "cell_type": "code",
   "execution_count": 34,
   "metadata": {},
   "outputs": [
    {
     "name": "stdout",
     "output_type": "stream",
     "text": [
      "Before Swap :->\n",
      "1\n",
      "2\n",
      "3\n",
      "4\n",
      "5\n",
      "After Swap :->\n",
      "5\n",
      "2\n",
      "3\n",
      "4\n",
      "1\n"
     ]
    }
   ],
   "source": [
    "l = [1,2,3,4,5]\n",
    "\n",
    "print(\"Before Swap :->\")\n",
    "for i in l :\n",
    "    print(i)\n",
    "    \n",
    "temp = l[0]\n",
    "l[0] = l[- 1]\n",
    "l[- 1] = temp\n",
    "\n",
    "print(\"After Swap :->\")\n",
    "for i in l :\n",
    "    print(i)"
   ]
  },
  {
   "cell_type": "markdown",
   "metadata": {},
   "source": [
    "### 05) WAP to split the List into two parts and append the first part to the end."
   ]
  },
  {
   "cell_type": "code",
   "execution_count": 29,
   "metadata": {},
   "outputs": [
    {
     "data": {
      "text/plain": [
       "[4, 5, 6, 1, 2, 3]"
      ]
     },
     "execution_count": 29,
     "metadata": {},
     "output_type": "execute_result"
    }
   ],
   "source": [
    "l = [1,2,3,4,5,6]\n",
    "l1 = []\n",
    "l2 = []\n",
    "\n",
    "for i in range(len(l) // 2) :\n",
    "    l1.append(l[i])\n",
    "\n",
    "for i in range(len(l) // 2 , len(l)) :\n",
    "    l2.append(l[i])\n",
    "\n",
    "l2.extend(l1)\n",
    "\n",
    "l2"
   ]
  },
  {
   "cell_type": "markdown",
   "metadata": {},
   "source": [
    "### 06) WAP to interchange the elements on two positions entered by a user."
   ]
  },
  {
   "cell_type": "code",
   "execution_count": 33,
   "metadata": {},
   "outputs": [
    {
     "data": {
      "text/plain": [
       "[1, 2, 4, 3, 5]"
      ]
     },
     "execution_count": 33,
     "metadata": {},
     "output_type": "execute_result"
    }
   ],
   "source": [
    "a = int(input(\"Enter First Position : \"))\n",
    "b = int(input(\"Enter Second Position : \"))\n",
    "\n",
    "l = [1,2,3,4,5]\n",
    "\n",
    "if (a > 0 and a < len(l)) and (b > 0 and b < len(l)) :\n",
    "    temp = l[a]\n",
    "    l[a] = l[b]\n",
    "    l[b] = temp\n",
    "\n",
    "l"
   ]
  },
  {
   "cell_type": "markdown",
   "metadata": {},
   "source": [
    "### 07) WAP to reverse the list entered by user."
   ]
  },
  {
   "cell_type": "code",
   "execution_count": null,
   "metadata": {},
   "outputs": [
    {
     "data": {
      "text/plain": [
       "[1, 2, 5]"
      ]
     },
     "execution_count": 38,
     "metadata": {},
     "output_type": "execute_result"
    }
   ],
   "source": [
    "size = int(input(\"Enter Size Of List : \"))\n",
    "l = []\n",
    "\n",
    "for i in range(size) :\n",
    "    l.append(int(input(\"Enter Element : \")))\n",
    "\n",
    "l = l [::-1]\n",
    "l"
   ]
  },
  {
   "cell_type": "markdown",
   "metadata": {},
   "source": [
    "### 08) WAP to print even numbers in a list."
   ]
  },
  {
   "cell_type": "code",
   "execution_count": 39,
   "metadata": {},
   "outputs": [
    {
     "name": "stdout",
     "output_type": "stream",
     "text": [
      "2\n",
      "4\n"
     ]
    }
   ],
   "source": [
    "l = [1,2,3,4,5]\n",
    "\n",
    "for i in l :\n",
    "    if i % 2 == 0 :\n",
    "        print(i)"
   ]
  },
  {
   "cell_type": "markdown",
   "metadata": {},
   "source": [
    "### 09) WAP to count unique items in a list."
   ]
  },
  {
   "cell_type": "code",
   "execution_count": 56,
   "metadata": {},
   "outputs": [
    {
     "name": "stdout",
     "output_type": "stream",
     "text": [
      "4\n",
      "3\n"
     ]
    }
   ],
   "source": [
    "l = [1,2,1,4,3,5,5,2]\n",
    "\n",
    "for i in l :\n",
    "    if l.count(i) == 1:\n",
    "        print(i)"
   ]
  },
  {
   "cell_type": "markdown",
   "metadata": {},
   "source": [
    "### 10) WAP to copy a list."
   ]
  },
  {
   "cell_type": "code",
   "execution_count": 40,
   "metadata": {},
   "outputs": [
    {
     "data": {
      "text/plain": [
       "[1, 2, 3, 4]"
      ]
     },
     "execution_count": 40,
     "metadata": {},
     "output_type": "execute_result"
    }
   ],
   "source": [
    "l = [1,2,3,4]\n",
    "\n",
    "l1 = l.copy()\n",
    "\n",
    "l1"
   ]
  },
  {
   "cell_type": "markdown",
   "metadata": {},
   "source": [
    "### 11) WAP to print all odd numbers in a given range."
   ]
  },
  {
   "cell_type": "code",
   "execution_count": 41,
   "metadata": {},
   "outputs": [
    {
     "name": "stdout",
     "output_type": "stream",
     "text": [
      "3\n",
      "5\n",
      "7\n"
     ]
    }
   ],
   "source": [
    "a = int(input(\"Enter First Number : \"))\n",
    "b = int(input(\"Enter Second Number : \"))\n",
    "\n",
    "for i in range(a, (b+1)) :\n",
    "    if i % 2 != 0 :\n",
    "        print(i)"
   ]
  },
  {
   "cell_type": "markdown",
   "metadata": {},
   "source": [
    "### 12) WAP to count occurrences of an element in a list."
   ]
  },
  {
   "cell_type": "code",
   "execution_count": 42,
   "metadata": {},
   "outputs": [
    {
     "data": {
      "text/plain": [
       "3"
      ]
     },
     "execution_count": 42,
     "metadata": {},
     "output_type": "execute_result"
    }
   ],
   "source": [
    "l = [1,2,3,1,2,3,2]\n",
    "\n",
    "l.count(2)"
   ]
  },
  {
   "cell_type": "markdown",
   "metadata": {},
   "source": [
    "### 13) WAP to find second largest number in a list."
   ]
  },
  {
   "cell_type": "code",
   "execution_count": 47,
   "metadata": {},
   "outputs": [
    {
     "name": "stdout",
     "output_type": "stream",
     "text": [
      "Second Max :  4\n"
     ]
    }
   ],
   "source": [
    "l = [1,2,3,5,4]\n",
    "max = l[0]\n",
    "secondMax = l[0]\n",
    "\n",
    "for i in l :\n",
    "    if max < i :\n",
    "        secondMax = max\n",
    "        max = i\n",
    "    elif i > secondMax and i != max :\n",
    "        secondMax = i\n",
    "        \n",
    "print(\"Second Max : \" , secondMax)"
   ]
  },
  {
   "cell_type": "markdown",
   "metadata": {},
   "source": [
    "### 14) WAP to extract elements with frequency greater than K."
   ]
  },
  {
   "cell_type": "code",
   "execution_count": 59,
   "metadata": {},
   "outputs": [
    {
     "name": "stdout",
     "output_type": "stream",
     "text": [
      "1\n",
      "2\n"
     ]
    }
   ],
   "source": [
    "l = [1,2,3,1,2,3,1,4,2,5]\n",
    "unique = []\n",
    "\n",
    "a = int(input(\"Enter Value : \"))\n",
    "\n",
    "for i in l :\n",
    "    if i not in unique :\n",
    "        unique.append(i)\n",
    "        \n",
    "for i in unique :\n",
    "    if l.count(i) > a:\n",
    "        print(i)      "
   ]
  },
  {
   "cell_type": "markdown",
   "metadata": {},
   "source": [
    "### 15) WAP to create a list of squared numbers from 0 to 9 with and without using List Comprehension."
   ]
  },
  {
   "cell_type": "code",
   "execution_count": 60,
   "metadata": {},
   "outputs": [
    {
     "data": {
      "text/plain": [
       "[0, 1, 4, 9, 16, 25, 36, 49, 64, 81]"
      ]
     },
     "execution_count": 60,
     "metadata": {},
     "output_type": "execute_result"
    }
   ],
   "source": [
    "l = [i ** 2 for i in range(10)]\n",
    "l"
   ]
  },
  {
   "cell_type": "code",
   "execution_count": 61,
   "metadata": {},
   "outputs": [
    {
     "data": {
      "text/plain": [
       "[0, 1, 4, 9, 16, 25, 36, 49, 64, 81]"
      ]
     },
     "execution_count": 61,
     "metadata": {},
     "output_type": "execute_result"
    }
   ],
   "source": [
    "l = []\n",
    "\n",
    "for i in range(10) :\n",
    "    l.append(i ** 2)\n",
    "    \n",
    "l"
   ]
  },
  {
   "cell_type": "markdown",
   "metadata": {},
   "source": [
    "### 16) WAP to create a new list (fruit whose name starts with 'b') from the list of fruits given by user."
   ]
  },
  {
   "cell_type": "code",
   "execution_count": 65,
   "metadata": {},
   "outputs": [
    {
     "data": {
      "text/plain": [
       "['Banana']"
      ]
     },
     "execution_count": 65,
     "metadata": {},
     "output_type": "execute_result"
    }
   ],
   "source": [
    "size = int(input(\"Enter List Size :\"))\n",
    "l = []\n",
    "\n",
    "for i in range(size) :\n",
    "    l.append(input(\"Enter Fruit : \"))\n",
    "\n",
    "b =[]\n",
    "\n",
    "for i in l :\n",
    "    if i.startswith(\"b\") or i.startswith(\"B\") :\n",
    "        b.append(i)\n",
    "        \n",
    "b"
   ]
  },
  {
   "cell_type": "markdown",
   "metadata": {},
   "source": [
    "### 17) WAP to create a list of common elements from given two lists."
   ]
  },
  {
   "cell_type": "code",
   "execution_count": 68,
   "metadata": {},
   "outputs": [
    {
     "data": {
      "text/plain": [
       "[3, 5]"
      ]
     },
     "execution_count": 68,
     "metadata": {},
     "output_type": "execute_result"
    }
   ],
   "source": [
    "l1 = [3,2,4,5,3]\n",
    "l2 = [3,1,5]\n",
    "\n",
    "common = []\n",
    "unique = []\n",
    "\n",
    "for i in l1 :\n",
    "    if i in l2 :\n",
    "        common.append(i)\n",
    "        \n",
    "for i in common :\n",
    "    if i not in unique :\n",
    "        unique.append(i)\n",
    "        \n",
    "unique"
   ]
  }
 ],
 "metadata": {
  "kernelspec": {
   "display_name": "Python 3",
   "language": "python",
   "name": "python3"
  },
  "language_info": {
   "codemirror_mode": {
    "name": "ipython",
    "version": 3
   },
   "file_extension": ".py",
   "mimetype": "text/x-python",
   "name": "python",
   "nbconvert_exporter": "python",
   "pygments_lexer": "ipython3",
   "version": "3.13.0"
  }
 },
 "nbformat": 4,
 "nbformat_minor": 4
}
