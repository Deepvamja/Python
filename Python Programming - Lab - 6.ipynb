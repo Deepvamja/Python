{
 "cells": [
  {
   "attachments": {},
   "cell_type": "markdown",
   "metadata": {},
   "source": [
    "<a href='https://www.darshan.ac.in/'> <img src='https://www.darshan.ac.in/Content/media/DU_Logo.svg' width=\"250\" height=\"300\"/></a>\n",
    "<pre>\n",
    "<center><b><h1>Python Programming - 2301CS404</b></center>\n",
    "<center><b><h1>Lab - 6</b></center>    \n",
    "<pre>"
   ]
  },
  {
   "cell_type": "markdown",
   "metadata": {},
   "source": [
    "# Tuple"
   ]
  },
  {
   "cell_type": "markdown",
   "metadata": {},
   "source": [
    "### 01) WAP to find sum of tuple elements."
   ]
  },
  {
   "cell_type": "code",
   "execution_count": 1,
   "metadata": {},
   "outputs": [
    {
     "name": "stdout",
     "output_type": "stream",
     "text": [
      "Sum of tuple elements: 100\n"
     ]
    }
   ],
   "source": [
    "\n",
    "tuple_data = (10, 20, 30, 40)\n",
    "sum_of_elements = sum(tuple_data)\n",
    "print(\"Sum of tuple elements:\", sum_of_elements)\n"
   ]
  },
  {
   "cell_type": "markdown",
   "metadata": {},
   "source": [
    "### 02) WAP to find Maximum and Minimum K elements in a given tuple."
   ]
  },
  {
   "cell_type": "code",
   "execution_count": 2,
   "metadata": {},
   "outputs": [
    {
     "name": "stdout",
     "output_type": "stream",
     "text": [
      "Minimum 2 elements: [10, 20]\n",
      "Maximum 2 elements: [60, 70]\n"
     ]
    }
   ],
   "source": [
    "# Program to find Maximum and Minimum K elements in a tuple\n",
    "tuple_data = (10, 20, 30, 40, 50, 60, 70)\n",
    "k = 2\n",
    "\n",
    "# Sorting the tuple\n",
    "sorted_tuple = sorted(tuple_data)\n",
    "\n",
    "# Finding minimum and maximum K elements\n",
    "min_k_elements = sorted_tuple[:k]\n",
    "max_k_elements = sorted_tuple[-k:]\n",
    "\n",
    "print(f\"Minimum {k} elements:\", min_k_elements)\n",
    "print(f\"Maximum {k} elements:\", max_k_elements)\n"
   ]
  },
  {
   "cell_type": "markdown",
   "metadata": {},
   "source": [
    "### 03) WAP to find tuples which have all elements divisible by K from a list of tuples."
   ]
  },
  {
   "cell_type": "code",
   "execution_count": 3,
   "metadata": {},
   "outputs": [
    {
     "name": "stdout",
     "output_type": "stream",
     "text": [
      "Tuples with all elements divisible by 5: [(10, 20), (15, 30), (40, 50)]\n"
     ]
    }
   ],
   "source": [
    "# Program to find tuples with all elements divisible by K\n",
    "list_of_tuples = [(10, 20), (15, 30), (40, 50), (12, 24)]\n",
    "k = 5\n",
    "\n",
    "result = [tup for tup in list_of_tuples if all(x % k == 0 for x in tup)]\n",
    "print(f\"Tuples with all elements divisible by {k}:\", result)\n"
   ]
  },
  {
   "cell_type": "markdown",
   "metadata": {},
   "source": [
    "### 04) WAP to create a list of tuples from given list having number and its cube in each tuple."
   ]
  },
  {
   "cell_type": "code",
   "execution_count": 4,
   "metadata": {},
   "outputs": [
    {
     "name": "stdout",
     "output_type": "stream",
     "text": [
      "List of tuples with number and its cube: [(1, 1), (2, 8), (3, 27), (4, 64), (5, 125)]\n"
     ]
    }
   ],
   "source": [
    "# Program to create a list of tuples with number and its cube\n",
    "numbers = [1, 2, 3, 4, 5]\n",
    "result = [(num, num**3) for num in numbers]\n",
    "print(\"List of tuples with number and its cube:\", result)\n"
   ]
  },
  {
   "cell_type": "markdown",
   "metadata": {},
   "source": [
    "### 05) WAP to find tuples with all positive elements from the given list of tuples."
   ]
  },
  {
   "cell_type": "code",
   "execution_count": 5,
   "metadata": {},
   "outputs": [
    {
     "name": "stdout",
     "output_type": "stream",
     "text": [
      "Tuples with all positive elements: [(1, 2, 3), (9, 10)]\n"
     ]
    }
   ],
   "source": [
    "# Program to find tuples with all positive elements\n",
    "list_of_tuples = [(1, 2, 3), (-1, 4, 5), (6, -7, 8), (9, 10)]\n",
    "positive_tuples = [tup for tup in list_of_tuples if all(x > 0 for x in tup)]\n",
    "print(\"Tuples with all positive elements:\", positive_tuples)\n"
   ]
  },
  {
   "cell_type": "markdown",
   "metadata": {},
   "source": [
    "### 06) WAP to add tuple to list and vice – versa."
   ]
  },
  {
   "cell_type": "code",
   "execution_count": 6,
   "metadata": {},
   "outputs": [
    {
     "name": "stdout",
     "output_type": "stream",
     "text": [
      "List after adding tuple: [1, 2, 3, (4, 5, 6)]\n",
      "Tuple after adding list: (4, 5, 6, 1, 2, 3, (4, 5, 6))\n"
     ]
    }
   ],
   "source": [
    "# Program to add a tuple to a list\n",
    "my_list = [1, 2, 3]\n",
    "my_tuple = (4, 5, 6)\n",
    "\n",
    "# Adding tuple to the list\n",
    "my_list.append(my_tuple)\n",
    "print(\"List after adding tuple:\", my_list)\n",
    "\n",
    "# Program to add a list to a tuple\n",
    "my_tuple = my_tuple + tuple(my_list)\n",
    "print(\"Tuple after adding list:\", my_tuple)\n"
   ]
  },
  {
   "cell_type": "markdown",
   "metadata": {},
   "source": [
    "### 07) WAP to remove tuples of length K."
   ]
  },
  {
   "cell_type": "code",
   "execution_count": 7,
   "metadata": {},
   "outputs": [
    {
     "name": "stdout",
     "output_type": "stream",
     "text": [
      "Tuples after removing length 2 : [(3, 4, 5), (6,), (7, 8, 9, 10)]\n"
     ]
    }
   ],
   "source": [
    "# Program to remove tuples of length K\n",
    "list_of_tuples = [(1, 2), (3, 4, 5), (6,), (7, 8, 9, 10)]\n",
    "k = 2\n",
    "filtered_tuples = [tup for tup in list_of_tuples if len(tup) != k]\n",
    "print(\"Tuples after removing length\", k, \":\", filtered_tuples)\n"
   ]
  },
  {
   "cell_type": "markdown",
   "metadata": {},
   "source": [
    "### 08) WAP to remove duplicates from tuple."
   ]
  },
  {
   "cell_type": "code",
   "execution_count": 8,
   "metadata": {},
   "outputs": [
    {
     "name": "stdout",
     "output_type": "stream",
     "text": [
      "Tuple after removing duplicates: (40, 10, 20, 30)\n"
     ]
    }
   ],
   "source": [
    "# Program to remove duplicates from a tuple\n",
    "tuple_data = (10, 20, 20, 30, 40, 40)\n",
    "unique_elements = tuple(set(tuple_data))\n",
    "print(\"Tuple after removing duplicates:\", unique_elements)\n"
   ]
  },
  {
   "cell_type": "markdown",
   "metadata": {},
   "source": [
    "### 09) WAP to multiply adjacent elements of a tuple and print that resultant tuple."
   ]
  },
  {
   "cell_type": "code",
   "execution_count": 9,
   "metadata": {},
   "outputs": [
    {
     "name": "stdout",
     "output_type": "stream",
     "text": [
      "Resultant tuple: (2, 6, 12, 20)\n"
     ]
    }
   ],
   "source": [
    "# Program to multiply adjacent elements of a tuple\n",
    "tuple_data = (1, 2, 3, 4, 5)\n",
    "result = tuple(tuple_data[i] * tuple_data[i+1] for i in range(len(tuple_data) - 1))\n",
    "print(\"Resultant tuple:\", result)\n"
   ]
  },
  {
   "cell_type": "markdown",
   "metadata": {},
   "source": [
    "### 10) WAP to test if the given tuple is distinct or not."
   ]
  },
  {
   "cell_type": "code",
   "execution_count": 10,
   "metadata": {},
   "outputs": [
    {
     "name": "stdout",
     "output_type": "stream",
     "text": [
      "The tuple is not distinct.\n"
     ]
    }
   ],
   "source": [
    "# Program to check if the given tuple has distinct elements\n",
    "tuple_data = (10, 20, 30, 40, 10)\n",
    "is_distinct = len(tuple_data) == len(set(tuple_data))\n",
    "if is_distinct:\n",
    "    print(\"The tuple is distinct.\")\n",
    "else:\n",
    "    print(\"The tuple is not distinct.\")\n"
   ]
  }
 ],
 "metadata": {
  "kernelspec": {
   "display_name": "Python 3",
   "language": "python",
   "name": "python3"
  },
  "language_info": {
   "codemirror_mode": {
    "name": "ipython",
    "version": 3
   },
   "file_extension": ".py",
   "mimetype": "text/x-python",
   "name": "python",
   "nbconvert_exporter": "python",
   "pygments_lexer": "ipython3",
   "version": "3.13.0"
  }
 },
 "nbformat": 4,
 "nbformat_minor": 4
}
