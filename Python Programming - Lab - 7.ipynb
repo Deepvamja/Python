{
 "cells": [
  {
   "cell_type": "markdown",
   "metadata": {},
   "source": [
    "<a href='https://www.darshan.ac.in/'> <img src='https://www.darshan.ac.in/Content/media/DU_Logo.svg' width=\"250\" height=\"300\"/></a>\n",
    "<pre>\n",
    "<center><b><h1>Python Programming - 2301CS404</b></center>\n",
    "<center><b><h1>Lab - 7</b></center>    \n",
    "<pre>"
   ]
  },
  {
   "cell_type": "markdown",
   "metadata": {},
   "source": [
    "# Set & Dictionary"
   ]
  },
  {
   "cell_type": "markdown",
   "metadata": {},
   "source": [
    "### 01) WAP to iterate over a set."
   ]
  },
  {
   "cell_type": "code",
   "execution_count": 2,
   "metadata": {},
   "outputs": [
    {
     "name": "stdout",
     "output_type": "stream",
     "text": [
      "1\n",
      "2\n",
      "3\n",
      "4\n",
      "5\n"
     ]
    }
   ],
   "source": [
    "S = {1,2,3,4,5}\n",
    "\n",
    "for i in S:\n",
    "    print(i)\n"
   ]
  },
  {
   "cell_type": "markdown",
   "metadata": {},
   "source": [
    "### 02) WAP to convert set into list, string and tuple."
   ]
  },
  {
   "cell_type": "code",
   "execution_count": 11,
   "metadata": {},
   "outputs": [
    {
     "name": "stdout",
     "output_type": "stream",
     "text": [
      " 2 3 4 5 11 \n",
      "[2, 3, 4, 5, 11]\n",
      "(2, 3, 4, 5, 11)\n"
     ]
    }
   ],
   "source": [
    "S = {11,2,3,4,5}\n",
    "\n",
    "lists = list(S)\n",
    "tuples = tuple(S)\n",
    "\n",
    "str1 = \" \"\n",
    "\n",
    "for i in S:\n",
    "    str1 += str(i) + \" \"\n",
    "\n",
    "\n",
    "print(str1)\n",
    "print(lists)\n",
    "print(tuples)"
   ]
  },
  {
   "cell_type": "markdown",
   "metadata": {},
   "source": [
    "### 03) WAP to find Maximum and Minimum from a set."
   ]
  },
  {
   "cell_type": "code",
   "execution_count": 13,
   "metadata": {},
   "outputs": [
    {
     "name": "stdout",
     "output_type": "stream",
     "text": [
      "55\n"
     ]
    }
   ],
   "source": [
    "s = {11,22,33,55}\n",
    "\n",
    "S = max(s)\n",
    "print(S)"
   ]
  },
  {
   "cell_type": "markdown",
   "metadata": {},
   "source": [
    "### 04) WAP to perform union of two sets."
   ]
  },
  {
   "cell_type": "code",
   "execution_count": 15,
   "metadata": {},
   "outputs": [
    {
     "name": "stdout",
     "output_type": "stream",
     "text": [
      "{33, 66, 99, 100, 11, 44, 77, 22, 55, 88}\n"
     ]
    }
   ],
   "source": [
    "S1 = {11,22,33,44,55}\n",
    "S2 = {66,77,88,99,100}\n",
    "\n",
    "sets = S1.union(S2)\n",
    "\n",
    "print(sets)"
   ]
  },
  {
   "cell_type": "markdown",
   "metadata": {},
   "source": [
    "### 05) WAP to check if two lists have at-least one element common."
   ]
  },
  {
   "cell_type": "code",
   "execution_count": 21,
   "metadata": {},
   "outputs": [
    {
     "name": "stdout",
     "output_type": "stream",
     "text": [
      "{33, 11}\n"
     ]
    }
   ],
   "source": [
    "l1 = [11,22,33,44,55]\n",
    "l2 = [66,77,33,99,11]\n",
    "\n",
    "\n",
    "\n",
    "sets = set(S1).intersection(set((S2)))\n",
    "print(sets)"
   ]
  },
  {
   "cell_type": "markdown",
   "metadata": {},
   "source": [
    "### 06) WAP to remove duplicates from list."
   ]
  },
  {
   "cell_type": "code",
   "execution_count": 22,
   "metadata": {},
   "outputs": [
    {
     "name": "stdout",
     "output_type": "stream",
     "text": [
      "[1, 2, 3, 4, 5, 6]\n"
     ]
    }
   ],
   "source": [
    "l = [1,2,3,4,5,6,6,4,]\n",
    "\n",
    "n = list(set(l))\n",
    "\n",
    "print(n)\n",
    "\n"
   ]
  },
  {
   "cell_type": "markdown",
   "metadata": {},
   "source": [
    "### 07) WAP to find unique words in the given string."
   ]
  },
  {
   "cell_type": "code",
   "execution_count": 23,
   "metadata": {},
   "outputs": [
    {
     "name": "stdout",
     "output_type": "stream",
     "text": [
      "{'hi', 'how', 'you', 'are'}\n"
     ]
    }
   ],
   "source": [
    "s = input(\"enter the string:\")\n",
    "\n",
    "unique_word = set(s.split(\" \"))\n",
    "print(unique_word)"
   ]
  },
  {
   "cell_type": "markdown",
   "metadata": {},
   "source": [
    "### 08) WAP to remove common elements of set A & B from set A."
   ]
  },
  {
   "cell_type": "code",
   "execution_count": 25,
   "metadata": {},
   "outputs": [
    {
     "name": "stdout",
     "output_type": "stream",
     "text": [
      "{44, 22, 55}\n"
     ]
    }
   ],
   "source": [
    "S1 = {11,22,33,44,55}\n",
    "S2 = {66,77,33,99,11}\n",
    "\n",
    "A = S1.difference(S2)\n",
    "print(A)\n"
   ]
  },
  {
   "cell_type": "markdown",
   "metadata": {},
   "source": [
    "### 09) WAP to check whether two given strings are anagram or not using set."
   ]
  },
  {
   "cell_type": "code",
   "execution_count": 45,
   "metadata": {},
   "outputs": [
    {
     "name": "stdout",
     "output_type": "stream",
     "text": [
      "not anagram\n"
     ]
    }
   ],
   "source": [
    "string1 = \"medicalm\"\n",
    "string2 = \"demical\"\n",
    "\n",
    "if len(set(string1).difference(set(string2))) == 0  and len(string1) == len(string2):\n",
    "    print(\"given string is anagram\")\n",
    "else:\n",
    "    print(\"not anagram\")"
   ]
  },
  {
   "cell_type": "markdown",
   "metadata": {},
   "source": [
    "### 10) WAP to find common elements in three lists using set."
   ]
  },
  {
   "cell_type": "code",
   "execution_count": 46,
   "metadata": {},
   "outputs": [
    {
     "name": "stdout",
     "output_type": "stream",
     "text": [
      "{33, 11}\n"
     ]
    }
   ],
   "source": [
    "l1 = [11,22,33,44,55]\n",
    "l2 = [66,77,33,99,11]\n",
    "l3 = [11,77,66,33,99]\n",
    "\n",
    "common_elements = set(l1).intersection(set(l2))\n",
    "A = set(common_elements).intersection(set(l3))\n",
    "print(A)"
   ]
  },
  {
   "cell_type": "markdown",
   "metadata": {},
   "source": [
    "### 11) WAP to count number of vowels in given string using set."
   ]
  },
  {
   "cell_type": "code",
   "execution_count": 54,
   "metadata": {},
   "outputs": [
    {
     "name": "stdout",
     "output_type": "stream",
     "text": [
      "4\n"
     ]
    }
   ],
   "source": [
    "vowels = \"aeiou\"\n",
    "string = \"enter the string\".lower()\n",
    "\n",
    "count_vowels = set(vowels).intersection(set(string))\n",
    "\n",
    "vowel = 0\n",
    "for i in count_vowels:\n",
    "    vowel +=   string.count(i)\n",
    "\n",
    "print(vowel)\n",
    "\n",
    "\n",
    "    \n",
    "\n"
   ]
  },
  {
   "cell_type": "markdown",
   "metadata": {},
   "source": [
    "### 12) WAP to check if a given string is binary string or not."
   ]
  },
  {
   "cell_type": "code",
   "execution_count": 55,
   "metadata": {},
   "outputs": [],
   "source": [
    "\n",
    "def check(string):\n",
    "\tif all((letter in \"01\") for letter in string):\n",
    "\t\treturn \"Yes\"\n",
    "\treturn \"No\"\n",
    "\n",
    "\n",
    "if __name__ == \"__main__\":\n",
    "\n",
    "\tstring1 = \"101011000111\"\n",
    "\tstring2 = \"201000001\"\n",
    "\n",
    "\t# function calling\n",
    "\tprint(check(string1))\n",
    "\tprint(check(string2))\n",
    "\t\n",
    "\n",
    "\n",
    "\n",
    "\n"
   ]
  },
  {
   "cell_type": "markdown",
   "metadata": {},
   "source": [
    "### 13) WAP to sort dictionary by key or value."
   ]
  },
  {
   "cell_type": "code",
   "execution_count": 56,
   "metadata": {},
   "outputs": [
    {
     "name": "stdout",
     "output_type": "stream",
     "text": [
      "['deep', 'harsh', 'nikung']\n"
     ]
    }
   ],
   "source": [
    "d = {\"harsh\":\"vekariya\",\"nikung\":\"rathod\",\"deep\":\"vamja\"}\n",
    "\n",
    "sorted_keys = sorted(d)\n",
    "\n",
    "sorted_dict = {}\n",
    "\n",
    "for i in d:\n",
    "    sorted_dict[i] = d.get(i)\n",
    "\n",
    "\n",
    "print(sorted_keys)\n",
    "\n",
    "\n",
    "\n"
   ]
  },
  {
   "cell_type": "markdown",
   "metadata": {},
   "source": [
    "### 14) WAP to find the sum of all items (values) in a dictionary given by user. (Assume: values are numeric)"
   ]
  },
  {
   "cell_type": "code",
   "execution_count": 59,
   "metadata": {},
   "outputs": [
    {
     "name": "stdout",
     "output_type": "stream",
     "text": [
      "3\n"
     ]
    }
   ],
   "source": [
    "dict=int(input(\"enter the dic size/length\"))\n",
    "d = {}\n",
    "\n",
    "\n",
    "for i in range(dict):\n",
    "    d[i] = int(input(\"enter number:\"))\n",
    "\n",
    "print(sum(d.values()))\n",
    "\n"
   ]
  },
  {
   "cell_type": "markdown",
   "metadata": {},
   "source": [
    "### 15) WAP to handle missing keys in dictionaries.\n",
    "#### Example : Given, dict1 = {'a': 5, 'c': 8, 'e': 2} \n",
    "#### if you look for key = 'd', the message given should be 'Key Not Found', otherwise print the value of 'd' in dict1."
   ]
  },
  {
   "cell_type": "code",
   "execution_count": 60,
   "metadata": {},
   "outputs": [
    {
     "name": "stdout",
     "output_type": "stream",
     "text": [
      "keys not found\n"
     ]
    }
   ],
   "source": [
    "d = { 'a': 5,'c':8,'e':2}\n",
    "\n",
    "key_list = list(d.keys())\n",
    "\n",
    "input_users = input(\"enter the keys\")\n",
    "\n",
    "if input_users not in key_list:\n",
    "    print(\"keys not found\")\n",
    "else:\n",
    "    print(d.get())\n",
    "\n"
   ]
  }
 ],
 "metadata": {
  "kernelspec": {
   "display_name": "Python 3",
   "language": "python",
   "name": "python3"
  },
  "language_info": {
   "codemirror_mode": {
    "name": "ipython",
    "version": 3
   },
   "file_extension": ".py",
   "mimetype": "text/x-python",
   "name": "python",
   "nbconvert_exporter": "python",
   "pygments_lexer": "ipython3",
   "version": "3.13.0"
  }
 },
 "nbformat": 4,
 "nbformat_minor": 4
}
