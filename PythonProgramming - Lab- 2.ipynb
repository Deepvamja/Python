{
 "cells": [
  {
   "cell_type": "markdown",
   "metadata": {},
   "source": [
    "\n",
    "<a href='https://www.darshan.ac.in/'> <img src='https://www.darshan.ac.in/Content/media/DU_Logo.svg' width=\"250\" height=\"300\"/></a>\n",
    "<pre>\n",
    "<center><b><h1>Python Programming - 2301CS404</b></center>\n",
    "<center><b><h1>Lab - 2</b></center>    \n",
    "<pre>"
   ]
  },
  {
   "cell_type": "markdown",
   "metadata": {},
   "source": [
    "# if..else.."
   ]
  },
  {
   "cell_type": "markdown",
   "metadata": {},
   "source": [
    "### 01) WAP to check whether the given number is positive or negative."
   ]
  },
  {
   "cell_type": "code",
   "execution_count": null,
   "metadata": {},
   "outputs": [],
   "source": [
    "a = int(input(\"Enter Number : \"))\n",
    "if a > 0:\n",
    "    print(\"Positive\")\n",
    "else:\n",
    "    print(\"Negative\")"
   ]
  },
  {
   "cell_type": "markdown",
   "metadata": {},
   "source": [
    "### 02) WAP to check whether the given number is odd or even."
   ]
  },
  {
   "cell_type": "code",
   "execution_count": null,
   "metadata": {},
   "outputs": [],
   "source": [
    "a = int(input(\"Enter Number : \"))\n",
    "if a % 2 == 0 :\n",
    "    print(\"Even\")\n",
    "else :\n",
    "    print(\"Odd\")"
   ]
  },
  {
   "cell_type": "markdown",
   "metadata": {},
   "source": [
    "### 03) WAP to find out largest number from given two numbers using simple if and ternary operator."
   ]
  },
  {
   "cell_type": "code",
   "execution_count": null,
   "metadata": {},
   "outputs": [],
   "source": [
    "a = 4\n",
    "b = 7\n",
    "\n",
    "if a > b :\n",
    "    print(a , \"is Largest\")\n",
    "else :\n",
    "    print(b , \"is Largest\")"
   ]
  },
  {
   "cell_type": "code",
   "execution_count": null,
   "metadata": {},
   "outputs": [],
   "source": [
    "a = 4\n",
    "b = 7\n",
    "\n",
    "print(a , \"is Largest\") if a > b else print(b , \"is Largest\")"
   ]
  },
  {
   "cell_type": "markdown",
   "metadata": {},
   "source": [
    "### 04) WAP to find out largest number from given three numbers."
   ]
  },
  {
   "cell_type": "code",
   "execution_count": null,
   "metadata": {},
   "outputs": [],
   "source": [
    "a = 14\n",
    "b = 2\n",
    "c = 8\n",
    "\n",
    "if a > b :\n",
    "    if a > c :\n",
    "        print(a , \"is Largest\")\n",
    "    else :\n",
    "        print(c , \"is Largest\")\n",
    "elif b > c :\n",
    "    print(b , \"is Largest\")\n",
    "else :\n",
    "    print(c , \"is Largest\")"
   ]
  },
  {
   "cell_type": "markdown",
   "metadata": {},
   "source": [
    "### 05) WAP to check whether the given year is leap year or not.\n",
    "[If a year can be divisible by 4 but not divisible by 100 then it is leap year but if it is divisible by 400 then it is leap year]"
   ]
  },
  {
   "cell_type": "code",
   "execution_count": null,
   "metadata": {},
   "outputs": [],
   "source": [
    "year = 2023\n",
    "\n",
    "if (year % 400 == 0) or (year % 4 == 0 and year % 100 != 0) :\n",
    "    print(\"Leap Year\")\n",
    "else :\n",
    "    print(\"Not a Leap Year\")"
   ]
  },
  {
   "cell_type": "markdown",
   "metadata": {},
   "source": [
    "### 06) WAP in python to display the name of the day according to the number given by the user."
   ]
  },
  {
   "cell_type": "code",
   "execution_count": null,
   "metadata": {},
   "outputs": [],
   "source": [
    "day = int(input(\"Enter Number: \"))\n",
    "\n",
    "day = day % 7\n",
    "\n",
    "match day:\n",
    "    case 1:\n",
    "        print(\"Monday\")\n",
    "    case 2:\n",
    "        print(\"Tuesday\")\n",
    "    case 3:\n",
    "        print(\"Wednesday\")\n",
    "    case 4:\n",
    "        print(\"Thursday\")\n",
    "    case 5:\n",
    "        print(\"Friday\")\n",
    "    case 6:\n",
    "        print(\"Saturday\")\n",
    "    case 7:\n",
    "        print(\"Sunday\")\n",
    "    case _:\n",
    "        print(\"Invalid Input\")\n"
   ]
  },
  {
   "cell_type": "markdown",
   "metadata": {},
   "source": [
    "### 07) WAP to implement simple calculator which performs (add,sub,mul,div) of two no. based on user input."
   ]
  },
  {
   "cell_type": "code",
   "execution_count": null,
   "metadata": {},
   "outputs": [],
   "source": [
    "a = int(input(\"Enter First Number : \"))\n",
    "b = int(input(\"Enter Second Number : \"))\n",
    "\n",
    "ch = input(\"Enter Operator : \")\n",
    "\n",
    "if ch == '+' :\n",
    "    print(\"Sum : \" , (a + b))\n",
    "elif ch == '-' :\n",
    "    print(\"Subtraction : \" , (a - b))\n",
    "elif ch == '*' :\n",
    "    print(\"Multiplication : \" , (a * b))\n",
    "elif ch == '/' :\n",
    "    print(\"Division : \" , (a / b))\n",
    "elif ch == '%' :\n",
    "    print(\"Remainder : \" , (a % b))"
   ]
  },
  {
   "cell_type": "markdown",
   "metadata": {},
   "source": [
    "### 08) WAP to read marks of five subjects. Calculate percentage and print class accordingly. \n",
    "Fail below 35 </br>\n",
    "Pass Class between 35 to 45 </br>\n",
    "Second Class</br>\n",
    "between 45 to 60</br>\n",
    "First Class between 60 to 70</br> \n",
    "Distinction if more than 70"
   ]
  },
  {
   "cell_type": "code",
   "execution_count": null,
   "metadata": {},
   "outputs": [],
   "source": [
    "a = int(input(\"Enter First Subject Mark : \"))\n",
    "b = int(input(\"Enter Second Subject Mark : \"))\n",
    "c = int(input(\"Enter Third Subject Mark : \"))\n",
    "d = int(input(\"Enter Fourth Subject Mark : \"))\n",
    "e = int(input(\"Enter Fifth Subject Mark : \"))\n",
    "\n",
    "percentage = (a + b + c + d + e) / 5\n",
    "\n",
    "if percentage > 70 :\n",
    "    print(\"Distinct Class\")\n",
    "elif percentage > 60 and percentage < 70 :\n",
    "    print(\"First Class\")\n",
    "elif percentage > 45 and percentage < 60 :\n",
    "    print(\"Second Class\")\n",
    "elif percentage > 35 and percentage < 45 :\n",
    "    print(\"Pass Class\")\n",
    "elif percentage < 35 :\n",
    "    print(\"Fail\")"
   ]
  },
  {
   "cell_type": "markdown",
   "metadata": {},
   "source": [
    "### 09) Three sides of a triangle are entered through the keyboard, WAP to check whether the triangle is isosceles, equilateral, scalene or right-angled triangle."
   ]
  },
  {
   "cell_type": "code",
   "execution_count": null,
   "metadata": {},
   "outputs": [],
   "source": [
    "a = int(input(\"Enter First Side Measure : \"))\n",
    "b = int(input(\"Enter Second Side Measure : \"))\n",
    "c = int(input(\"Enter Third Side Measure : \"))\n",
    "\n",
    "if a == b == c :\n",
    "    print(\"Equilateral Triangle\")\n",
    "elif a == b or b == c or a == c :\n",
    "    print(\"Isosceles Triangle\")\n",
    "elif (a*a + b*b == c*c) or (a*a + c*c == b*b) or (b*b + c*c == a*a) :\n",
    "    print(\"Right-Angled Triangle\")\n",
    "else :\n",
    "    print(\"Scalene Triangle\")"
   ]
  },
  {
   "cell_type": "markdown",
   "metadata": {},
   "source": [
    "### 10) WAP to find the second largest number among three user input numbers."
   ]
  },
  {
   "cell_type": "code",
   "execution_count": null,
   "metadata": {},
   "outputs": [],
   "source": [
    "a = int(input(\"Enter First Number : \"))\n",
    "b = int(input(\"Enter Second Number : \"))\n",
    "c = int(input(\"Enter Third Number : \"))\n",
    "\n",
    "if (a > b and a < c) or (a < b and a > c) :\n",
    "    print(a, \"is Second Largest\")\n",
    "elif (b > a and b < c) or (b < a and b > c) :\n",
    "    print(b, \"is Second Largest\")\n",
    "else :\n",
    "    print(c, \"is Second Largest\")"
   ]
  },
  {
   "cell_type": "markdown",
   "metadata": {},
   "source": [
    "### 11) WAP to calculate electricity bill based on following criteria. Which takes the unit from the user.\n",
    "a. First 1 to 50 units – Rs. 2.60/unit</br>\n",
    "b. Next 50 to 100 units – Rs. 3.25/unit</br>\n",
    "c. Next 100 to 200 units – Rs. 5.26/unit</br>\n",
    "d. above 200 units – Rs. 8.45/unit"
   ]
  },
  {
   "cell_type": "code",
   "execution_count": null,
   "metadata": {},
   "outputs": [],
   "source": [
    "unit = int(input(\"Enter Unit : \"))\n",
    "bill = 0\n",
    "\n",
    "if unit <= 50:\n",
    "    bill += unit * 2.6\n",
    "elif unit <= 100:\n",
    "    bill += 50 * 2.6\n",
    "    bill += (unit - 50) * 3.25\n",
    "elif unit <= 200:\n",
    "    bill += 50 * 2.6\n",
    "    bill += 50 * 3.25\n",
    "    bill += (unit - 100) * 5.26\n",
    "else:\n",
    "    bill += 50 * 2.6\n",
    "    bill += 50 * 3.25\n",
    "    bill += 100 * 5.26\n",
    "    bill += (unit - 200) * 8.45 \n",
    "\n",
    "print(\"Total Bill : \" , bill)"
   ]
  }
 ],
 "metadata": {
  "kernelspec": {
   "display_name": "Python 3 (ipykernel)",
   "language": "python",
   "name": "python3"
  },
  "language_info": {
   "codemirror_mode": {
    "name": "ipython",
    "version": 3
   },
   "file_extension": ".py",
   "mimetype": "text/x-python",
   "name": "python",
   "nbconvert_exporter": "python",
   "pygments_lexer": "ipython3",
   "version": "3.10.9"
  }
 },
 "nbformat": 4,
 "nbformat_minor": 4
}
